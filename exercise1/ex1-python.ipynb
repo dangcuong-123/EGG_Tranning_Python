{
 "cells": [
  {
   "cell_type": "markdown",
   "id": "29425641",
   "metadata": {},
   "source": [
    "# Phần bài tập thực hành Python "
   ]
  },
  {
   "cell_type": "code",
   "execution_count": 10,
   "id": "566422fd",
   "metadata": {},
   "outputs": [],
   "source": [
    "import pandas as pd\n",
    "import numpy as np"
   ]
  },
  {
   "cell_type": "markdown",
   "id": "0a15870c",
   "metadata": {},
   "source": [
    "### BT1: cho 1 biến data kiểu string như bên dưới\n",
    "\n",
    "```\n",
    "data = '''\n",
    "Come to the\n",
    "River\n",
    "Of my\n",
    "Soulful\n",
    "Sentiments\n",
    "Meandering silently\n",
    "Yearning for release.\n",
    "Hasten\n",
    "Earnestly\n",
    "As my love flows by\n",
    "Rushing through the flood-gates\n",
    "To your heart.\n",
    "'''\n",
    "# https://www.poetrysoup.com/poem/cross_my_heart_609765\n",
    "```\n",
    "\n",
    "- Yêu cầu: giải mã mật thư, lấy tất cả các chữ cái đầu của từng dòng rồi ghép lại để được 1 câu cụ thể."
   ]
  },
  {
   "cell_type": "code",
   "execution_count": 6,
   "id": "5eb55562",
   "metadata": {},
   "outputs": [
    {
     "data": {
      "text/plain": [
       "str"
      ]
     },
     "execution_count": 6,
     "metadata": {},
     "output_type": "execute_result"
    }
   ],
   "source": [
    "data = '''\n",
    "Come to the\n",
    "River\n",
    "Of my\n",
    "Soulful\n",
    "Sentiments\n",
    "Meandering silently\n",
    "Yearning for release.\n",
    "Hasten\n",
    "Earnestly\n",
    "As my love flows by\n",
    "Rushing through the flood-gates\n",
    "To your heart.\n",
    "'''\n"
   ]
  },
  {
   "cell_type": "code",
   "execution_count": 28,
   "id": "52a29b62",
   "metadata": {},
   "outputs": [
    {
     "data": {
      "text/plain": [
       "'CROSSMYHEART'"
      ]
     },
     "execution_count": 28,
     "metadata": {},
     "output_type": "execute_result"
    }
   ],
   "source": [
    "def decrypt(cryptogram):\n",
    "    data_list=data.split('\\n')\n",
    "    df=pd.DataFrame(data_list[1:len(data_list)-1])\n",
    "    extracted_data=df[0].str[:1]\n",
    "    decryption=extracted_data.str.cat(sep='')\n",
    "    return decryption\n",
    "    \n",
    "decryption=decrypt(data)\n",
    "decryption\n"
   ]
  },
  {
   "cell_type": "markdown",
   "id": "05c043be",
   "metadata": {},
   "source": [
    "https://www.geeksforgeeks.org/construct-a-dataframe-in-pandas-using-string-data/\n",
    "https://math.stackexchange.com/questions/1101403/how-to-calculate-the-sum-of-digits-of-2n"
   ]
  },
  {
   "cell_type": "markdown",
   "id": "bce70482",
   "metadata": {},
   "source": [
    "### BT2\n",
    "\n",
    "- Tính tổng tất cả các chữ số trong kết quả của phép tính `2**10000`\n"
   ]
  },
  {
   "cell_type": "code",
   "execution_count": 23,
   "id": "b922df54",
   "metadata": {},
   "outputs": [
    {
     "name": "stdout",
     "output_type": "stream",
     "text": [
      "13561\n",
      "0.0010297298431396484 seconds\n"
     ]
    }
   ],
   "source": [
    "# num=2**10000\n",
    "# def test(num):\n",
    "#     digit_sum=0\n",
    "#     for i in str(num):\n",
    "#         digit_sum+=int(i)\n",
    "#     return digit_sum\n",
    "# digit_sum = test(num)\n",
    "\n",
    "sum(map(int, str(2**10000)))\n",
    "\n",
    "import time\n",
    "\n",
    "start = time.time()\n",
    "\n",
    "num = str(2 ** 10000)\n",
    "sumNum = 0\n",
    "\n",
    "for i in range(len(num)):\n",
    "    sumNum += int(num[i])\n",
    "\n",
    "print(int(sumNum))\n",
    "elapsed = time.time() - start\n",
    "\n",
    "print(elapsed, \"seconds\")"
   ]
  },
  {
   "cell_type": "markdown",
   "id": "892f2325",
   "metadata": {},
   "source": [
    "### BT3\n",
    "- Cho đoạn bài hát sau\n",
    "\n",
    "```\n",
    "Ngư60ời 'theo hư@ơng' hoa 100mây mù [giăng lối]\n",
    "Làn 25 sương khó30i phôi phai 90 đưa bư$ớc ai xa rồi 35\n",
    "100Đơn c#ôi m99ình ta {vấn vương} hồi ức tro^ng ... men say (chiều mưa) buồ80n \n",
    "Ng~ăn \"giọt lệ\" ngừng k2hiến khoé mi sầu bi.1 \n",
    "```\n",
    "\n",
    "- làm rõ lời bài hát bằng cách loại bỏ toàn bộ các số và kí tự punctuation :) \n",
    "- punctuation là gì? \n",
    "\n",
    "```\n",
    "import string\n",
    "string.punctuation # :)\n",
    "```\n"
   ]
  },
  {
   "cell_type": "markdown",
   "id": "f26d3e25",
   "metadata": {},
   "source": [
    "- Punctuation : ASCII characters which are considered punctuation characters in the C locale: !\\\"#$%&'()*+,-./:;<=>?@[\\\\]^_`{|}~."
   ]
  },
  {
   "cell_type": "code",
   "execution_count": 3,
   "id": "983ac2d6",
   "metadata": {},
   "outputs": [
    {
     "name": "stdout",
     "output_type": "stream",
     "text": [
      "sets      : 0.00010989999999821976\n",
      "trans      : 3.4499999998161e-05\n",
      "\n",
      "Người theo hương hoa mây mù giăng lối\n",
      "Làn  sương khói phôi phai  đưa bước ai xa rồi \n",
      "Đơn côi mình ta vấn vương hồi ức trong  men say chiều mưa buồn \n",
      "Ngăn giọt lệ ngừng khiến khoé mi sầu bi \n",
      "All string punctuation : !\"#$%&'()*+,-./:;<=>?@[\\]^_`{|}~\n"
     ]
    }
   ],
   "source": [
    "# code here\n",
    "import string,timeit\n",
    "s = \"\"\"\n",
    "Ngư60ời 'theo hư@ơng' hoa 100mây mù [giăng lối]\n",
    "Làn 25 sương khó30i phôi phai 90 đưa bư$ớc ai xa rồi 35\n",
    "100Đơn c#ôi m99ình ta {vấn vương} hồi ức tro^ng ... men say (chiều mưa) buồ80n \n",
    "Ng~ăn \"giọt lệ\" ngừng k2hiến khoé mi sầu bi.1 \"\"\"\n",
    "def test_trans(s):\n",
    "    return s.translate(str.maketrans(\"\",\"\", string.punctuation+string.digits))\n",
    "\n",
    "exclude = set(string.punctuation+string.digits)\n",
    "def test_set(s):\n",
    "    s = ''.join(karacter for karacter in s if karacter not in exclude)\n",
    "    return s\n",
    "    \n",
    "print(\"sets      :\",timeit.Timer('f(s)', 'from __main__ import s,test_set as f').timeit(1))\n",
    "print(\"trans      :\",timeit.Timer('f(s)', 'from __main__ import s,test_trans as f').timeit(1))\n",
    "print(test_trans(s))\n",
    "# print(test_set(s))\n",
    "print('All string punctuation :',string.punctuation)"
   ]
  },
  {
   "cell_type": "markdown",
   "id": "7f9f8d50",
   "metadata": {},
   "source": [
    "https://stackoverflow.com/questions/265960/best-way-to-strip-punctuation-from-a-string\n",
    "    \n",
    "https://towardsdatascience.com/how-to-efficiently-remove-punctuations-from-a-string-899ad4a059fb"
   ]
  },
  {
   "cell_type": "markdown",
   "id": "740b7ed6",
   "metadata": {},
   "source": [
    "### BT4\n",
    "\n",
    "- Giải bài toán lớp 3 sau: https://vnexpress.net/bai-toan-lop-3-co-so-luong-dap-an-khong-lo-3220439.html\n",
    "\n",
    "- Các biến liệt kê bên dưới nằm trong đoạn từ 1 đến 9, hỏi có bn bộ giá trị thỏa mãn điều kiện sau:\n",
    "\n",
    "```python\n",
    "a + 13 * b / c + d + 12 * e - f - 11 + g * h / i - 10 = 66\n",
    "```\n"
   ]
  },
  {
   "cell_type": "code",
   "execution_count": 7,
   "id": "c8424973",
   "metadata": {},
   "outputs": [
    {
     "name": "stdout",
     "output_type": "stream",
     "text": [
      "453542\n",
      "Time = 0.36223769187927246\n"
     ]
    }
   ],
   "source": [
    "# code here\n",
    "import time\n",
    "\n",
    "def solve():\n",
    "\n",
    "    consider_1 = []\n",
    "    for b in range(1, 10):\n",
    "        for c in range(1, 10):\n",
    "            for g in range(1, 10):\n",
    "                for h in range(1, 10):\n",
    "                    for i in range(1, 10):\n",
    "                        for e in range(1, 10):\n",
    "                            cal_1 = 87 - ((13 * b) / c +\n",
    "                                            (g * h) / i + 12 * e)\n",
    "                            if cal_1 % 1 == 0 and -9 <= cal_1 <= 17:\n",
    "                                consider_1.append(cal_1)\n",
    "    consider_1_true = []\n",
    "    result = 0\n",
    "    for consider in consider_1:\n",
    "        if consider not in consider_1_true:\n",
    "            count_consider = 0\n",
    "            count_consider_2 = 0\n",
    "            for a in range(1, 10):\n",
    "                for d in range(1, 10):\n",
    "                    for f in range(1, 10):\n",
    "                        if a + d - f - consider == 0:\n",
    "                            count_consider_2 = count_consider_2 + 1\n",
    "                            if consider not in consider_1_true:\n",
    "                                consider_1_true.append(consider)\n",
    "                                count_consider = consider_1.count(consider)\n",
    "            if count_consider_2 != 0:\n",
    "                result = result + (count_consider_2 * count_consider)\n",
    "\n",
    "    return result\n",
    "\n",
    "\n",
    "def main():\n",
    "    start = time.time()\n",
    "    print(solve())\n",
    "    print('Time =', time.time() - start)\n",
    "\n",
    "main()"
   ]
  },
  {
   "cell_type": "markdown",
   "id": "62b316ed",
   "metadata": {},
   "source": [
    "### BT5\n",
    "\n",
    "- Nếu lần lượt cho các giá trị trong bảng chữ cái tiếng Anh như sau: a = 1, b = 2, c = 3, .... thì tổng giá trị của các từ khi quy đổi ra số là như sau:\n",
    "\n",
    "```\n",
    "abc = 1 + 2 + 3 = 6\n",
    "defgh = 4 + 5 + 6 + 7 + 8 = 30 \n",
    "....\n",
    "```\n",
    "\n",
    "- Hỏi các từ sau có giá trị là bao nhiêu: python, patience, documents, students, homework, practice, success, english, university, congratulation\n"
   ]
  },
  {
   "cell_type": "code",
   "execution_count": 8,
   "id": "9f4af41b",
   "metadata": {},
   "outputs": [
    {
     "name": "stdout",
     "output_type": "stream",
     "text": [
      "value of python is :  98\n",
      "value of patience is :  73\n",
      "value of documents is :  114\n",
      "value of students is :  122\n",
      "value of homework is :  108\n",
      "value of practice is :  75\n",
      "value of success is :  89\n",
      "value of english is :  74\n",
      "value of university is :  162\n",
      "value of congratulation is :  170\n"
     ]
    }
   ],
   "source": [
    "# code here\n",
    "import string\n",
    "def sum_1(s):\n",
    "    sum_1=0\n",
    "    for i in s:\n",
    "        sum_1+=ord(i)-96\n",
    "    return sum_1\n",
    "\n",
    "\n",
    "word_list=['python','patience','documents','students','homework','practice','success','english','university','congratulation']\n",
    "\n",
    "\n",
    "def sum_2(s):\n",
    "    sum_2=0\n",
    "    num_list=[0]*len(string.ascii_lowercase)\n",
    "\n",
    "    for i in range(len(num_list)):\n",
    "        num_list[i]=i+1\n",
    "        \n",
    "    assign_list=dict(zip(string.ascii_lowercase,num_list))\n",
    "\n",
    "    for i in s:\n",
    "        sum_2+=assign_list[str(i)]\n",
    "    return sum_2\n",
    "for word in word_list:\n",
    "    print('value of',word,'is : ',sum_2(word))"
   ]
  },
  {
   "cell_type": "markdown",
   "id": "abce040f",
   "metadata": {},
   "source": [
    "### BT6\n",
    "\n",
    "- Viết code sinh các số Fibonacci dưới 1000, lưu giữ kết quả vào 1 list.\n"
   ]
  },
  {
   "cell_type": "code",
   "execution_count": null,
   "id": "432811ac",
   "metadata": {},
   "outputs": [],
   "source": [
    "# code here\n",
    "\n",
    "def fibo_gene(n):\n",
    "    fibo_list=[0,1]\n",
    "    if n<0:\n",
    "        print('Invalid value')\n",
    "    elif n==0 :\n",
    "        return fibo_list[0]\n",
    "    elif n==1:\n",
    "        return fibo_list[:1]\n",
    "    else:\n",
    "        for i in range(2,n):\n",
    "            fibo_list.append(fibo_list[i-1]+fibo_list[i-2])\n",
    "        return fibo_list\n",
    "np.savetxt('fibo_list.txt',fibo_gene(1000),fmt='%d')\n",
    "fibo_gene(1000)\n"
   ]
  },
  {
   "cell_type": "markdown",
   "id": "c38d49c0",
   "metadata": {},
   "source": [
    "### BT7 \n",
    "\n",
    "- Viết code sinh các số nguyên tố dưới 10000, lưu giữ kết quả vào 1 list.\n"
   ]
  },
  {
   "cell_type": "code",
   "execution_count": 10,
   "id": "9c9f3517",
   "metadata": {},
   "outputs": [],
   "source": [
    "# code here\n",
    "def prime_gene(n):\n",
    "        prime_list=[]\n",
    "        for i in range(1,n+1):\n",
    "            check=True\n",
    "            for j in range(2,int(np.sqrt(i)+1)):\n",
    "                check=True\n",
    "                if i%j==0:\n",
    "                    check=False\n",
    "                    break\n",
    "            if check == True:\n",
    "                prime_list.append(i)\n",
    "        return prime_list\n",
    "np.savetxt('prime_list.txt',prime_gene(10000),fmt='%d')    \n",
    "        "
   ]
  },
  {
   "cell_type": "markdown",
   "id": "6923104d",
   "metadata": {},
   "source": [
    "\n",
    "### BT8\n",
    "\n",
    "- Cho đoạn văn bản sau\n",
    "\n",
    "```text\n",
    "Python is an easy to learn, powerful programming language. It has efficient high-level data structures and a simple but effective approach to object-oriented programming. Python’s elegant syntax and dynamic typing, together with its interpreted nature, make it an ideal language for scripting and rapid application development in many areas on most platforms.\n",
    "\n",
    "The Python interpreter and the extensive standard library are freely available in source or binary form for all major platforms from the Python Web site, https://www.python.org/, and may be freely distributed. The same site also contains distributions of and pointers to many free third party Python modules, programs and tools, and additional documentation.\n",
    "\n",
    "The Python interpreter is easily extended with new functions and data types implemented in C or C++ (or other languages callable from C). Python is also suitable as an extension language for customizable applications.\n",
    "\n",
    "This tutorial introduces the reader informally to the basic concepts and features of the Python language and system. It helps to have a Python interpreter handy for hands-on experience, but all examples are self-contained, so the tutorial can be read off-line as well.\n",
    "\n",
    "For a description of standard objects and modules, see The Python Standard Library. The Python Language Reference gives a more formal definition of the language. To write extensions in C or C++, read Extending and Embedding the Python Interpreter and Python/C API Reference Manual. There are also several books covering Python in depth.\n",
    "\n",
    "This tutorial does not attempt to be comprehensive and cover every single feature, or even every commonly used feature. Instead, it introduces many of Python’s most noteworthy features, and will give you a good idea of the language’s flavor and style. After reading it, you will be able to read and write Python modules and programs, and you will be ready to learn more about the various Python library modules described in The Python Standard Library.\n",
    "```\n",
    "\n",
    "- Trả về dict chứa 10 phần tử xuất hiện nhiều nhất cùng số lần xuất hiện theo format:\n",
    "\n",
    "```python\n",
    "result = {\"if\": 10, ...}\n",
    "```\n",
    "\n",
    "- Lưu ý: không quan trọng uppercase và lowercase. Các phần tử chỉ bao gồm các chữ cái và số\n"
   ]
  },
  {
   "cell_type": "code",
   "execution_count": 15,
   "id": "a44da7dd",
   "metadata": {},
   "outputs": [
    {
     "name": "stdout",
     "output_type": "stream",
     "text": [
      "Number of words: 323\n",
      "Number of unique words: 168\n",
      "Sum of all occurences: 323\n",
      "{'and': 20, 'python': 19, 'the': 16, 'to': 9, 'language': 7, 'in': 6, 'of': 6, 'c': 6, 'it': 5, 'a': 5}\n"
     ]
    }
   ],
   "source": [
    "# code here\n",
    "text ='''\n",
    "Python is an easy to learn, powerful programming language. It has efficient high-level data structures and a simple but effective approach to object-oriented programming. Python’s elegant syntax and dynamic typing, together with its interpreted nature, make it an ideal language for scripting and rapid application development in many areas on most platforms.\n",
    "\n",
    "The Python interpreter and the extensive standard library are freely available in source or binary form for all major platforms from the Python Web site, https://www.python.org/, and may be freely distributed. The same site also contains distributions of and pointers to many free third party Python modules, programs and tools, and additional documentation.\n",
    "\n",
    "The Python interpreter is easily extended with new functions and data types implemented in C or C++ (or other languages callable from C). Python is also suitable as an extension language for customizable applications.\n",
    "\n",
    "This tutorial introduces the reader informally to the basic concepts and features of the Python language and system. It helps to have a Python interpreter handy for hands-on experience, but all examples are self-contained, so the tutorial can be read off-line as well.\n",
    "\n",
    "For a description of standard objects and modules, see The Python Standard Library. The Python Language Reference gives a more formal definition of the language. To write extensions in C or C++, read Extending and Embedding the Python Interpreter and Python/C API Reference Manual. There are also several books covering Python in depth.\n",
    "\n",
    "This tutorial does not attempt to be comprehensive and cover every single feature, or even every commonly used feature. Instead, it introduces many of Python’s most noteworthy features, and will give you a good idea of the language’s flavor and style. After reading it, you will be able to read and write Python modules and programs, and you will be ready to learn more about the various Python library modules described in The Python Standard Library.'''\n",
    "    \n",
    "def word_listing(text):\n",
    "    for i in string.punctuation+'\\u2019':  # replace all punctation and RIGHT SINGLE QUOTATION MARK\n",
    "        text=text.replace(i,' ')\n",
    "\n",
    "    word_list=text.lower().split() # split out words into list\n",
    "\n",
    "    np.savetxt('word_list.txt',word_list,fmt='%s')\n",
    "    return word_list\n",
    "    \n",
    "    \n",
    "word_list=word_listing(text)\n",
    "print('Number of words:',len(word_list))\n",
    "\n",
    "def dict_making(word_list):\n",
    "    occur_dict={} # Create dictionary of unique words\n",
    "    '''\n",
    "    uniques = []\n",
    "    for word in word_list:\n",
    "    if word not in uniques:\n",
    "        uniques.append(word)\n",
    "    print(len(uniques))\n",
    "    '''\n",
    "    \n",
    "    for word in word_list: # Assign all word's occurences == 0\n",
    "        occur_dict[word]=0\n",
    "\n",
    "    for word1 in occur_dict: # Count & update word's occurence\n",
    "        occur=0\n",
    "        for word2 in word_list:\n",
    "            if word2 == word1:\n",
    "                occur+=1       \n",
    "            occur_dict[word1]=occur\n",
    "    return occur_dict\n",
    "\n",
    "\n",
    "    \n",
    "occur_dict=dict_making(word_list)\n",
    "print('Number of unique words:',len(occur_dict))\n",
    "print('Sum of all occurences:',sum(occur_dict.values()))\n",
    "\n",
    "sorted(occur_dict, key=occur_dict.get, reverse=True)[:10] # a list of first 10 sorted words by occurence\n",
    "\n",
    "\n",
    "result = {k: occur_dict[k] for k in sorted(occur_dict, key=occur_dict.get, reverse=True)[:10]} # dictionary comprehension\n",
    "print(result)"
   ]
  },
  {
   "cell_type": "markdown",
   "id": "a46b1e8b",
   "metadata": {},
   "source": [
    "https://stackoverflow.com/questions/62722567/standarzing-double-quotes-single-quotes-and-apostrophes-in-python\n",
    "\n",
    "https://stackoverflow.com/questions/27327303/10-most-frequent-words-in-a-string-python\n",
    "\n",
    "https://www.datacamp.com/community/tutorials/python-dictionary-comprehension#pdc\n",
    "\n",
    "Consider using Dataframes"
   ]
  },
  {
   "cell_type": "markdown",
   "id": "7eec3280",
   "metadata": {},
   "source": [
    "### BT9\n",
    "\n",
    "- Với 2 list:\n",
    "\n",
    "```python\n",
    "A = [1, 2, 3, 4, 5, 6]\n",
    "B = [3, 4, 5, 6, 7, 8, 9, 10]\n",
    "```\n",
    "\n",
    "- Lấy các phần tử:\n",
    "  - Có trong cả A, B\n",
    "  - Chỉ có trong A\n",
    "  - Chỉ có trong B\n",
    "  - Chỉ có trong A hoặc B (mà không phải cả 2)\n"
   ]
  },
  {
   "cell_type": "code",
   "execution_count": 16,
   "id": "2a969faa",
   "metadata": {},
   "outputs": [
    {
     "name": "stdout",
     "output_type": "stream",
     "text": [
      "{3, 4, 5, 6}\n",
      "{1, 2}\n",
      "{8, 9, 10, 7}\n",
      "{1, 2, 7, 8, 9, 10}\n"
     ]
    }
   ],
   "source": [
    "# code here\n",
    "A = [1, 2, 3, 4, 5, 6]\n",
    "B = [3, 4, 5, 6, 7, 8, 9, 10]\n",
    "print(set(A).intersection(set(B)))\n",
    "print(set(A).difference(set(B)))\n",
    "print(set(B).difference(set(A)))\n",
    "print(set(B).symmetric_difference(set(A)))"
   ]
  },
  {
   "cell_type": "markdown",
   "id": "dd19da61",
   "metadata": {},
   "source": [
    "  \n",
    "### BT10\n",
    "\n",
    "- Trả về 1 list n tuple được định nghĩa như sau:\n",
    "\n",
    "```python\n",
    "years = [(1900, \"Canh Tí\"), ... (2019, \"Kỷ Hợi\")]\n",
    "```\n",
    "\n",
    "- với năm chạy từ 1900 đến 2019, output yêu cầu trả về đúng như format bên trên, bao gồm năm và can chi tương ứng\n",
    "- Chú ý viết hoa các chữ cái đầu \n",
    "\n",
    "---"
   ]
  },
  {
   "cell_type": "code",
   "execution_count": 17,
   "id": "b9a94fc8",
   "metadata": {},
   "outputs": [
    {
     "data": {
      "text/plain": [
       "[(1900, 'CanhTí'),\n",
       " (1901, 'TânSửu'),\n",
       " (1902, 'NhâmDần'),\n",
       " (1903, 'QuýMão'),\n",
       " (1904, 'GiápThìn'),\n",
       " (1905, 'ẤtTị'),\n",
       " (1906, 'BínhNgọ'),\n",
       " (1907, 'ĐinhMùi'),\n",
       " (1908, 'MậuThân'),\n",
       " (1909, 'KỷDậu'),\n",
       " (1910, 'CanhTuất'),\n",
       " (1911, 'TânHợi'),\n",
       " (1912, 'NhâmTí'),\n",
       " (1913, 'QuýSửu'),\n",
       " (1914, 'GiápDần'),\n",
       " (1915, 'ẤtMão'),\n",
       " (1916, 'BínhThìn'),\n",
       " (1917, 'ĐinhTị'),\n",
       " (1918, 'MậuNgọ'),\n",
       " (1919, 'KỷMùi'),\n",
       " (1920, 'CanhThân'),\n",
       " (1921, 'TânDậu'),\n",
       " (1922, 'NhâmTuất'),\n",
       " (1923, 'QuýHợi'),\n",
       " (1924, 'GiápTí'),\n",
       " (1925, 'ẤtSửu'),\n",
       " (1926, 'BínhDần'),\n",
       " (1927, 'ĐinhMão'),\n",
       " (1928, 'MậuThìn'),\n",
       " (1929, 'KỷTị'),\n",
       " (1930, 'CanhNgọ'),\n",
       " (1931, 'TânMùi'),\n",
       " (1932, 'NhâmThân'),\n",
       " (1933, 'QuýDậu'),\n",
       " (1934, 'GiápTuất'),\n",
       " (1935, 'ẤtHợi'),\n",
       " (1936, 'BínhTí'),\n",
       " (1937, 'ĐinhSửu'),\n",
       " (1938, 'MậuDần'),\n",
       " (1939, 'KỷMão'),\n",
       " (1940, 'CanhThìn'),\n",
       " (1941, 'TânTị'),\n",
       " (1942, 'NhâmNgọ'),\n",
       " (1943, 'QuýMùi'),\n",
       " (1944, 'GiápThân'),\n",
       " (1945, 'ẤtDậu'),\n",
       " (1946, 'BínhTuất'),\n",
       " (1947, 'ĐinhHợi'),\n",
       " (1948, 'MậuTí'),\n",
       " (1949, 'KỷSửu'),\n",
       " (1950, 'CanhDần'),\n",
       " (1951, 'TânMão'),\n",
       " (1952, 'NhâmThìn'),\n",
       " (1953, 'QuýTị'),\n",
       " (1954, 'GiápNgọ'),\n",
       " (1955, 'ẤtMùi'),\n",
       " (1956, 'BínhThân'),\n",
       " (1957, 'ĐinhDậu'),\n",
       " (1958, 'MậuTuất'),\n",
       " (1959, 'KỷHợi'),\n",
       " (1960, 'CanhTí'),\n",
       " (1961, 'TânSửu'),\n",
       " (1962, 'NhâmDần'),\n",
       " (1963, 'QuýMão'),\n",
       " (1964, 'GiápThìn'),\n",
       " (1965, 'ẤtTị'),\n",
       " (1966, 'BínhNgọ'),\n",
       " (1967, 'ĐinhMùi'),\n",
       " (1968, 'MậuThân'),\n",
       " (1969, 'KỷDậu'),\n",
       " (1970, 'CanhTuất'),\n",
       " (1971, 'TânHợi'),\n",
       " (1972, 'NhâmTí'),\n",
       " (1973, 'QuýSửu'),\n",
       " (1974, 'GiápDần'),\n",
       " (1975, 'ẤtMão'),\n",
       " (1976, 'BínhThìn'),\n",
       " (1977, 'ĐinhTị'),\n",
       " (1978, 'MậuNgọ'),\n",
       " (1979, 'KỷMùi'),\n",
       " (1980, 'CanhThân'),\n",
       " (1981, 'TânDậu'),\n",
       " (1982, 'NhâmTuất'),\n",
       " (1983, 'QuýHợi'),\n",
       " (1984, 'GiápTí'),\n",
       " (1985, 'ẤtSửu'),\n",
       " (1986, 'BínhDần'),\n",
       " (1987, 'ĐinhMão'),\n",
       " (1988, 'MậuThìn'),\n",
       " (1989, 'KỷTị'),\n",
       " (1990, 'CanhNgọ'),\n",
       " (1991, 'TânMùi'),\n",
       " (1992, 'NhâmThân'),\n",
       " (1993, 'QuýDậu'),\n",
       " (1994, 'GiápTuất'),\n",
       " (1995, 'ẤtHợi'),\n",
       " (1996, 'BínhTí'),\n",
       " (1997, 'ĐinhSửu'),\n",
       " (1998, 'MậuDần'),\n",
       " (1999, 'KỷMão'),\n",
       " (2000, 'CanhThìn'),\n",
       " (2001, 'TânTị'),\n",
       " (2002, 'NhâmNgọ'),\n",
       " (2003, 'QuýMùi'),\n",
       " (2004, 'GiápThân'),\n",
       " (2005, 'ẤtDậu'),\n",
       " (2006, 'BínhTuất'),\n",
       " (2007, 'ĐinhHợi'),\n",
       " (2008, 'MậuTí'),\n",
       " (2009, 'KỷSửu'),\n",
       " (2010, 'CanhDần'),\n",
       " (2011, 'TânMão'),\n",
       " (2012, 'NhâmThìn'),\n",
       " (2013, 'QuýTị'),\n",
       " (2014, 'GiápNgọ'),\n",
       " (2015, 'ẤtMùi'),\n",
       " (2016, 'BínhThân'),\n",
       " (2017, 'ĐinhDậu'),\n",
       " (2018, 'MậuTuất'),\n",
       " (2019, 'KỷHợi')]"
      ]
     },
     "execution_count": 17,
     "metadata": {},
     "output_type": "execute_result"
    }
   ],
   "source": [
    "# code here\n",
    "def canchi_calc():\n",
    "    can = ['Canh', 'Tân', 'Nhâm', 'Quý', 'Giáp', 'Ất', 'Bính', 'Đinh','Mậu','Kỷ']\n",
    "    chi = ['Thân', 'Dậu', 'Tuất', 'Hợi','Tí','Sửu','Dần', 'Mão', 'Thìn', 'Tị', 'Ngọ', \"Mùi\"]\n",
    "    \n",
    "    years=[0]*120\n",
    "    for i in range(1900,2020):\n",
    "        vitri_can = i % 10\n",
    "        vitri_chi = i % 12\n",
    "        years[i-1900]= (i,can[vitri_can]+chi[vitri_chi])\n",
    "    return years\n",
    "years=canchi_calc()\n",
    "years"
   ]
  }
 ],
 "metadata": {
  "kernelspec": {
   "display_name": "Python 3 (ipykernel)",
   "language": "python",
   "name": "python3"
  },
  "language_info": {
   "codemirror_mode": {
    "name": "ipython",
    "version": 3
   },
   "file_extension": ".py",
   "mimetype": "text/x-python",
   "name": "python",
   "nbconvert_exporter": "python",
   "pygments_lexer": "ipython3",
   "version": "3.9.7"
  }
 },
 "nbformat": 4,
 "nbformat_minor": 5
}
