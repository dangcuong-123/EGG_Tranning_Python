{
 "cells": [
  {
   "cell_type": "markdown",
   "id": "686acf06",
   "metadata": {},
   "source": [
    "# Excercise\n",
    "Get to know EDA (Exploratory Data Analysis)\n",
    "- `Pandas` for data loading, data cleaning \n",
    "- `matplotlib`, `seaborn` for data visualization\n",
    "- Feature Engineering for tabular data\n"
   ]
  },
  {
   "cell_type": "markdown",
   "id": "4eef851f",
   "metadata": {},
   "source": [
    "We have a dataset that includes almost **features of houses**. The goal is to predict the **sales price** of each house.\n",
    "We try to understand the dataset and get some insights.\n",
    "Note that understanding data is the first and also the most important of an AI project. So have fun with this :)"
   ]
  },
  {
   "cell_type": "markdown",
   "id": "a020c1bf",
   "metadata": {},
   "source": [
    "## Load libraries and data"
   ]
  },
  {
   "cell_type": "code",
   "execution_count": null,
   "id": "d5d65c73",
   "metadata": {},
   "outputs": [],
   "source": [
    "import numpy as np\n",
    "import pandas as pd\n",
    "import seaborn as sns\n",
    "import matplotlib.pyplot as plt\n",
    "from scipy.stats import norm\n",
    "import warnings\n",
    "warnings.filterwarnings('ignore')"
   ]
  },
  {
   "cell_type": "markdown",
   "id": "55366976",
   "metadata": {},
   "source": [
    "1. Oops, no module named ...? Please fix this."
   ]
  },
  {
   "cell_type": "markdown",
   "id": "79b5cf52",
   "metadata": {},
   "source": [
    "2. Ok, let's load the dataset to Pandas's dataframes:"
   ]
  },
  {
   "cell_type": "code",
   "execution_count": null,
   "id": "38de44db",
   "metadata": {},
   "outputs": [],
   "source": [
    "train=pd.read_csv('data/train.csv')\n",
    "\n",
    "train"
   ]
  },
  {
   "cell_type": "markdown",
   "id": "476e901a",
   "metadata": {},
   "source": [
    "Let's see the data"
   ]
  },
  {
   "cell_type": "markdown",
   "id": "1e55060d",
   "metadata": {},
   "source": [
    "### Data Exploration\n",
    "Let's try to answer all questions below (with source code and graphs if needed)."
   ]
  },
  {
   "cell_type": "markdown",
   "id": "bfa3dae9",
   "metadata": {},
   "source": [
    "3. Check types of each column"
   ]
  },
  {
   "cell_type": "code",
   "execution_count": null,
   "id": "1e3c604f",
   "metadata": {},
   "outputs": [],
   "source": [
    "train.iloc[:,0:81].dtypes\n",
    "train.info()"
   ]
  },
  {
   "cell_type": "markdown",
   "id": "fe300ea5",
   "metadata": {},
   "source": [
    "4. How many columns (features), rows of this dataset?"
   ]
  },
  {
   "cell_type": "code",
   "execution_count": null,
   "id": "59b0380b",
   "metadata": {},
   "outputs": [],
   "source": [
    "train.shape"
   ]
  },
  {
   "cell_type": "markdown",
   "id": "7d9f51c5",
   "metadata": {},
   "source": [
    "5. How many numerical features, time features, discrete features, continuous features, categoricals features? Find basic statistics (min, max, mean, standard deviation) of each features."
   ]
  },
  {
   "cell_type": "code",
   "execution_count": 69,
   "id": "72f3979d",
   "metadata": {},
   "outputs": [],
   "source": [
    "def basic_statistic(data):\n",
    "    for column in train.columns:\n",
    "        print(column,'statistic: \\n',train[column].describe())\n",
    "# basic_statistic(train)\n",
    "\n",
    "def data_type(data):\n",
    "    colnames_numerics_only = train.select_dtypes(include=np.number).columns.tolist()\n",
    "    # print(colnames_numerics_only)\n",
    "\n",
    "    colnames_object_only = train.select_dtypes(include=object).columns.tolist()\n",
    "    # print(colnames_object_only)\n",
    "    return colnames_numerics_only\n",
    "\n"
   ]
  },
  {
   "cell_type": "markdown",
   "id": "4854d953",
   "metadata": {},
   "source": [
    "6. How many duplicated rows?"
   ]
  },
  {
   "cell_type": "code",
   "execution_count": null,
   "id": "787fbb94",
   "metadata": {},
   "outputs": [],
   "source": [
    "dupli=train[train.duplicated(train.iloc[:,0:80].columns)]\n",
    "print('There is',dupli.shape[0],'duplicated row')"
   ]
  },
  {
   "cell_type": "markdown",
   "id": "fa7b3211",
   "metadata": {},
   "source": [
    "7. How many missing values of each feature?"
   ]
  },
  {
   "cell_type": "code",
   "execution_count": null,
   "metadata": {},
   "outputs": [],
   "source": [
    "# for column in train.columns:\n",
    "#     print(column,train[column].isnull().sum(axis=0))\n",
    "    # print('Feature',column,'has',train[column].isnull().sum(axis=0),'missing vaues')\n",
    "missing = train.isnull().sum()\n",
    "missing = missing[missing > 0]\n",
    "missing.sort_values(inplace=True) # sort values, no extra memory required\n",
    "missing.plot.bar()\n",
    "\n"
   ]
  },
  {
   "cell_type": "markdown",
   "id": "a5d06807",
   "metadata": {},
   "source": [
    "8. Count unique values of each feature"
   ]
  },
  {
   "cell_type": "code",
   "execution_count": null,
   "id": "132b961d",
   "metadata": {},
   "outputs": [],
   "source": [
    "for column in train.columns:\n",
    "    print(column,sum(train[column].value_counts()))\n"
   ]
  },
  {
   "cell_type": "markdown",
   "id": "2c55652f",
   "metadata": {},
   "source": [
    "9. Plot the distribution of sale price (target). Also check sale price distribution in log scale. Any insights?"
   ]
  },
  {
   "cell_type": "code",
   "execution_count": null,
   "id": "b350a325",
   "metadata": {},
   "outputs": [],
   "source": [
    "sns.distplot(train['SalePrice']) # kde=True : the blue line ,plot a gaussian kernel density estimate\n",
    "\n",
    "fig = plt.figure()\n",
    "sns.distplot(np.log(train['SalePrice']), fit=norm)\n",
    "# import scipy.stats as st\n",
    "# y = np.log(train['SalePrice'])\n",
    "# y = (x-x.mean())/x.std()\n",
    "# plt.figure(2); plt.title('Normal')\n",
    "# sns.distplot(y, kde=False, fit=st.norm)\n",
    "# plt.figure(3); plt.title('Log Normal')\n",
    "# sns.distplot(y, kde=False, fit=st.lognorm)"
   ]
  },
  {
   "cell_type": "markdown",
   "id": "fc7f5794",
   "metadata": {},
   "source": [
    "-Insight : SalePrice in log scale has a distribution close to normal distribution"
   ]
  },
  {
   "cell_type": "markdown",
   "id": "cb9bf354",
   "metadata": {},
   "source": [
    "10. Check correlation of each feature to target. Which features are the most important? Any insights? "
   ]
  },
  {
   "cell_type": "code",
   "execution_count": 119,
   "id": "d343c602",
   "metadata": {},
   "outputs": [
    {
     "name": "stdout",
     "output_type": "stream",
     "text": [
      "Most important feature: ['OverallQual', 'GrLivArea', 'GarageCars', 'GarageArea', 'TotalBsmtSF']\n"
     ]
    },
    {
     "data": {
      "text/plain": [
       "<AxesSubplot:xlabel='OverallQual', ylabel='SalePrice'>"
      ]
     },
     "execution_count": 119,
     "metadata": {},
     "output_type": "execute_result"
    },
    {
     "data": {
      "image/png": "[encoded data removed]",
      "text/plain": [
       "<Figure size 432x288 with 1 Axes>"
      ]
     },
     "metadata": {
      "needs_background": "light"
     },
     "output_type": "display_data"
    }
   ],
   "source": [
    "colnames_numerics_only=data_type(train)\n",
    "Correlation={}\n",
    "for feature in colnames_numerics_only[:-1]:\n",
    "    # print(feature, train[feature].corr(train['SalePrice']))\n",
    "    Correlation[feature]=train[feature].corr(train['SalePrice'])\n",
    "    \n",
    "most_important=sorted(Correlation, key=Correlation.get, reverse=True)[:5]\n",
    "print('Most important feature:',most_important)\n",
    "testtt=pd.concat([train['SalePrice'], train['OverallQual']], axis=1)\n",
    "testtt.plot.scatter(x='OverallQual', y='SalePrice', ylim=(0,800000))"
   ]
  },
  {
   "cell_type": "markdown",
   "id": "0e430cba",
   "metadata": {},
   "source": [
    "Insight : OverallQuality and Large Area tend to lead to high price"
   ]
  },
  {
   "cell_type": "markdown",
   "id": "73df8239",
   "metadata": {},
   "source": [
    "https://machinelearningmastery.com/how-to-use-correlation-to-understand-the-relationship-between-variables/\n",
    "\n",
    "https://www.youtube.com/watch?v=4EXNedimDMs"
   ]
  },
  {
   "cell_type": "markdown",
   "id": "50e8ccce",
   "metadata": {},
   "source": [
    "11. Check correlations of numerical features to each others. Any insights?"
   ]
  },
  {
   "cell_type": "code",
   "execution_count": 118,
   "id": "6d7d4143",
   "metadata": {},
   "outputs": [],
   "source": [
    "colnames_numerics_only=data_type(train)\n",
    "numericcal_features=train[colnames_numerics_only]\n",
    "# for feature in colnames_numerics_only:\n",
    "numfea_correlation=numericcal_features.loc[:, numericcal_features.columns != 'Id'].corr()\n",
    "numfea_correlation.to_csv('Correlation of numerical features.csv')\n",
    "# numfea_correlation"
   ]
  },
  {
   "cell_type": "markdown",
   "id": "5a7ee7e3",
   "metadata": {},
   "source": [
    "Insight : I don't know yet"
   ]
  },
  {
   "cell_type": "markdown",
   "id": "c9d8fe14",
   "metadata": {},
   "source": [
    "12. Do you know skewess and kurtosis? Try to explain them and check this dataset."
   ]
  },
  {
   "cell_type": "code",
   "execution_count": 100,
   "id": "bc60322d",
   "metadata": {},
   "outputs": [
    {
     "name": "stdout",
     "output_type": "stream",
     "text": [
      "Skewness: 1.882876\n",
      "Kurtosis: 6.536282\n"
     ]
    }
   ],
   "source": [
    "print(\"Skewness: %f\" % train['SalePrice'].skew())\n",
    "print(\"Kurtosis: %f\" % train['SalePrice'].kurt())"
   ]
  },
  {
   "cell_type": "markdown",
   "id": "570d6767",
   "metadata": {},
   "source": [
    "13. Check outliers of this dataset"
   ]
  },
  {
   "cell_type": "markdown",
   "id": "7ecd8047",
   "metadata": {},
   "source": [
    "14. Compare train set and test set. Do they have the same distributions?"
   ]
  },
  {
   "cell_type": "code",
   "execution_count": null,
   "id": "e8d5d16c",
   "metadata": {},
   "outputs": [],
   "source": []
  },
  {
   "cell_type": "markdown",
   "id": "cf22714c",
   "metadata": {},
   "source": [
    "15. Hypothesis: does sale price go up each year? Confirm it."
   ]
  },
  {
   "cell_type": "code",
   "execution_count": 124,
   "id": "180ed33b",
   "metadata": {},
   "outputs": [
    {
     "name": "stdout",
     "output_type": "stream",
     "text": [
      "Price DOESN'T go up each year\n"
     ]
    },
    {
     "data": {
      "image/png": "[encoded data removed]",
      "text/plain": [
       "<Figure size 432x288 with 1 Axes>"
      ]
     },
     "metadata": {
      "needs_background": "light"
     },
     "output_type": "display_data"
    }
   ],
   "source": [
    "sale_data=pd.concat([train['SalePrice'],train['YrSold']],axis=1)\n",
    "sale_data.plot.scatter(x='YrSold',y='SalePrice',ylim=80000,title='Price over year sold')\n",
    "print('Price DOESN\\'T go up each year')\n"
   ]
  },
  {
   "cell_type": "markdown",
   "id": "ba91b2c7",
   "metadata": {},
   "source": [
    "16. Hypotheis: seasons (spring, summer, fall, winter) also affect sale price. Confirm it."
   ]
  },
  {
   "cell_type": "code",
   "execution_count": 134,
   "id": "8eb558da",
   "metadata": {},
   "outputs": [
    {
     "data": {
      "text/html": [
       "<div>\n",
       "<style scoped>\n",
       "    .dataframe tbody tr th:only-of-type {\n",
       "        vertical-align: middle;\n",
       "    }\n",
       "\n",
       "    .dataframe tbody tr th {\n",
       "        vertical-align: top;\n",
       "    }\n",
       "\n",
       "    .dataframe thead th {\n",
       "        text-align: right;\n",
       "    }\n",
       "</style>\n",
       "<table border=\"1\" class=\"dataframe\">\n",
       "  <thead>\n",
       "    <tr style=\"text-align: right;\">\n",
       "      <th></th>\n",
       "      <th>MoSold</th>\n",
       "      <th>SalePrice</th>\n",
       "    </tr>\n",
       "  </thead>\n",
       "  <tbody>\n",
       "    <tr>\n",
       "      <th>0</th>\n",
       "      <td>2</td>\n",
       "      <td>208500</td>\n",
       "    </tr>\n",
       "    <tr>\n",
       "      <th>3</th>\n",
       "      <td>2</td>\n",
       "      <td>140000</td>\n",
       "    </tr>\n",
       "    <tr>\n",
       "      <th>9</th>\n",
       "      <td>1</td>\n",
       "      <td>118000</td>\n",
       "    </tr>\n",
       "    <tr>\n",
       "      <th>10</th>\n",
       "      <td>2</td>\n",
       "      <td>129500</td>\n",
       "    </tr>\n",
       "    <tr>\n",
       "      <th>16</th>\n",
       "      <td>3</td>\n",
       "      <td>149000</td>\n",
       "    </tr>\n",
       "    <tr>\n",
       "      <th>...</th>\n",
       "      <td>...</td>\n",
       "      <td>...</td>\n",
       "    </tr>\n",
       "    <tr>\n",
       "      <th>1406</th>\n",
       "      <td>3</td>\n",
       "      <td>133000</td>\n",
       "    </tr>\n",
       "    <tr>\n",
       "      <th>1407</th>\n",
       "      <td>3</td>\n",
       "      <td>112000</td>\n",
       "    </tr>\n",
       "    <tr>\n",
       "      <th>1422</th>\n",
       "      <td>3</td>\n",
       "      <td>136500</td>\n",
       "    </tr>\n",
       "    <tr>\n",
       "      <th>1428</th>\n",
       "      <td>2</td>\n",
       "      <td>119000</td>\n",
       "    </tr>\n",
       "    <tr>\n",
       "      <th>1456</th>\n",
       "      <td>2</td>\n",
       "      <td>210000</td>\n",
       "    </tr>\n",
       "  </tbody>\n",
       "</table>\n",
       "<p>216 rows × 2 columns</p>\n",
       "</div>"
      ],
      "text/plain": [
       "      MoSold  SalePrice\n",
       "0          2     208500\n",
       "3          2     140000\n",
       "9          1     118000\n",
       "10         2     129500\n",
       "16         3     149000\n",
       "...      ...        ...\n",
       "1406       3     133000\n",
       "1407       3     112000\n",
       "1422       3     136500\n",
       "1428       2     119000\n",
       "1456       2     210000\n",
       "\n",
       "[216 rows x 2 columns]"
      ]
     },
     "execution_count": 134,
     "metadata": {},
     "output_type": "execute_result"
    }
   ],
   "source": [
    "spring=[1,2,3]\n",
    "spring_data=pd.concat([train.query('MoSold<4')['MoSold'],train.query('MoSold<4')['SalePrice']],axis=1)\n",
    "# train.query('MoSold<4')['MoSold']\n",
    "spring_data\n",
    "# spring_data=train['SalePrice'].loc["
   ]
  },
  {
   "cell_type": "markdown",
   "id": "733c9d52",
   "metadata": {},
   "source": [
    "17. Think up 3 other hypotheses and confirm them."
   ]
  },
  {
   "cell_type": "markdown",
   "id": "86d696b9",
   "metadata": {},
   "source": [
    "### Feature Engineering"
   ]
  },
  {
   "cell_type": "markdown",
   "id": "2a20d9cb",
   "metadata": {},
   "source": [
    "18. Numerical features:\n",
    "- What can we do with these features? How to handle missing values? Do we need to scale each feature?\n",
    "- Let's practice with our dataset."
   ]
  },
  {
   "cell_type": "markdown",
   "id": "5432c9a0",
   "metadata": {},
   "source": [
    "19. Categorical features:\n",
    "- Understand OneHotEncoder, OrdinalEncoder. Do you know Target Encoding? When to use Target Encoding and does it have caveats?\n",
    "- Try to encode the categorical features in this dataset using suitable encoders above."
   ]
  },
  {
   "cell_type": "code",
   "execution_count": null,
   "id": "0615dadb",
   "metadata": {},
   "outputs": [],
   "source": []
  }
 ],
 "metadata": {
  "kernelspec": {
   "display_name": "Python 3",
   "language": "python",
   "name": "python3"
  },
  "language_info": {
   "codemirror_mode": {
    "name": "ipython",
    "version": 3
   },
   "file_extension": ".py",
   "mimetype": "text/x-python",
   "name": "python",
   "nbconvert_exporter": "python",
   "pygments_lexer": "ipython3",
   "version": "3.9.7"
  }
 },
 "nbformat": 4,
 "nbformat_minor": 5
}
