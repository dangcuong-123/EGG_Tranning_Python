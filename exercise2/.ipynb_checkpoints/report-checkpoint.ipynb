{
 "cells": [
  {
   "cell_type": "markdown",
   "id": "686acf06",
   "metadata": {},
   "source": [
    "# Excercise\n",
    "Get to know EDA (Exploratory Data Analysis)\n",
    "- `Pandas` for data loading, data cleaning \n",
    "- `matplotlib`, `seaborn` for data visualization\n",
    "- Feature Engineering for tabular data\n"
   ]
  },
  {
   "cell_type": "markdown",
   "id": "4eef851f",
   "metadata": {},
   "source": [
    "We have a dataset that includes almost **features of houses**. The goal is to predict the **sales price** of each house.\n",
    "We try to understand the dataset and get some insights.\n",
    "Note that understanding data is the first and also the most important of an AI project. So have fun with this :)"
   ]
  },
  {
   "cell_type": "markdown",
   "id": "a020c1bf",
   "metadata": {},
   "source": [
    "## Load libraries and data"
   ]
  },
  {
   "cell_type": "code",
   "execution_count": 1,
   "id": "d5d65c73",
   "metadata": {},
   "outputs": [],
   "source": [
    "import numpy as np\n",
    "import pandas as pd\n",
    "import seaborn as sns\n",
    "import matplotlib.pyplot as plt\n",
    "\n",
    "import warnings\n",
    "warnings.filterwarnings('ignore')"
   ]
  },
  {
   "cell_type": "markdown",
   "id": "55366976",
   "metadata": {},
   "source": [
    "1. Oops, no module named ...? Please fix this."
   ]
  },
  {
   "cell_type": "markdown",
   "id": "79b5cf52",
   "metadata": {},
   "source": [
    "2. Ok, let's load the dataset to Pandas's dataframes:"
   ]
  },
  {
   "cell_type": "markdown",
   "id": "476e901a",
   "metadata": {},
   "source": [
    "Let's see the data"
   ]
  },
  {
   "cell_type": "markdown",
   "id": "1e55060d",
   "metadata": {},
   "source": [
    "### Data Exploration\n",
    "Let's try to answer all questions below (with source code and graphs if needed)."
   ]
  },
  {
   "cell_type": "markdown",
   "id": "bfa3dae9",
   "metadata": {},
   "source": [
    "3. Check types of each column"
   ]
  },
  {
   "cell_type": "markdown",
   "id": "fe300ea5",
   "metadata": {},
   "source": [
    "4. How many columns (features), rows of this dataset?"
   ]
  },
  {
   "cell_type": "markdown",
   "id": "7d9f51c5",
   "metadata": {},
   "source": [
    "5. How many numerical features, time features, discrete features, continuous features, categoricals features? Find basic statistics (min, max, mean, standard deviation) of each features."
   ]
  },
  {
   "cell_type": "markdown",
   "id": "4854d953",
   "metadata": {},
   "source": [
    "6. How many duplicated rows?"
   ]
  },
  {
   "cell_type": "markdown",
   "id": "fa7b3211",
   "metadata": {},
   "source": [
    "7. How many missing values of each feature?"
   ]
  },
  {
   "cell_type": "markdown",
   "id": "a5d06807",
   "metadata": {},
   "source": [
    "8. Count unique values of each feature"
   ]
  },
  {
   "cell_type": "markdown",
   "id": "2c55652f",
   "metadata": {},
   "source": [
    "9. Plot the distribution of sale price (target). Also check sale price distribution in log scale. Any insights?"
   ]
  },
  {
   "cell_type": "markdown",
   "id": "cb9bf354",
   "metadata": {},
   "source": [
    "10. Check correlation of each feature to target. Which features are the most important? Any insights? "
   ]
  },
  {
   "cell_type": "markdown",
   "id": "50e8ccce",
   "metadata": {},
   "source": [
    "11. Check correlations of numerical features to each others. Any insights?"
   ]
  },
  {
   "cell_type": "markdown",
   "id": "c9d8fe14",
   "metadata": {},
   "source": [
    "12. Do you know skewess and kurtosis? Try to explain them and check this dataset."
   ]
  },
  {
   "cell_type": "markdown",
   "id": "570d6767",
   "metadata": {},
   "source": [
    "13. Check outliers of this dataset"
   ]
  },
  {
   "cell_type": "markdown",
   "id": "7ecd8047",
   "metadata": {},
   "source": [
    "14. Compare train set and test set. Do they have the same distributions?"
   ]
  },
  {
   "cell_type": "markdown",
   "id": "cf22714c",
   "metadata": {},
   "source": [
    "15. Hypothesis: does sale price go up each year? Confirm it."
   ]
  },
  {
   "cell_type": "markdown",
   "id": "ba91b2c7",
   "metadata": {},
   "source": [
    "16. Hypotheis: seasons (spring, summer, fall, winter) also affect sale price. Confirm it."
   ]
  },
  {
   "cell_type": "markdown",
   "id": "733c9d52",
   "metadata": {},
   "source": [
    "17. Think up 3 other hypotheses and confirm them."
   ]
  },
  {
   "cell_type": "markdown",
   "id": "86d696b9",
   "metadata": {},
   "source": [
    "### Feature Engineering"
   ]
  },
  {
   "cell_type": "markdown",
   "id": "2a20d9cb",
   "metadata": {},
   "source": [
    "18. Numerical features:\n",
    "- What can we do with these features? How to handle missing values? Do we need to scale each feature?\n",
    "- Let's practice with our dataset."
   ]
  },
  {
   "cell_type": "markdown",
   "id": "5432c9a0",
   "metadata": {},
   "source": [
    "19. Categorical features:\n",
    "- Understand OneHotEncoder, OrdinalEncoder. Do you know Target Encoding? When to use Target Encoding and does it have caveats?\n",
    "- Try to encode the categorical features in this dataset using suitable encoders above."
   ]
  },
  {
   "cell_type": "code",
   "execution_count": null,
   "id": "0615dadb",
   "metadata": {},
   "outputs": [],
   "source": []
  }
 ],
 "metadata": {
  "kernelspec": {
   "display_name": "Python 3",
   "language": "python",
   "name": "python3"
  },
  "language_info": {
   "codemirror_mode": {
    "name": "ipython",
    "version": 3
   },
   "file_extension": ".py",
   "mimetype": "text/x-python",
   "name": "python",
   "nbconvert_exporter": "python",
   "pygments_lexer": "ipython3",
   "version": "3.8.8"
  }
 },
 "nbformat": 4,
 "nbformat_minor": 5
}
